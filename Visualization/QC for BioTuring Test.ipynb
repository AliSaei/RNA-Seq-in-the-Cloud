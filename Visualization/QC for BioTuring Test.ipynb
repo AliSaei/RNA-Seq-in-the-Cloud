{
 "cells": [
  {
   "cell_type": "code",
   "execution_count": 56,
   "metadata": {
    "ExecuteTime": {
     "end_time": "2019-03-11T21:46:35.033074Z",
     "start_time": "2019-03-11T21:46:35.029084Z"
    }
   },
   "outputs": [],
   "source": [
    "import pandas as pd\n",
    "import matplotlib.pyplot as plt\n",
    "import seaborn as sns\n",
    "from sklearn.decomposition import PCA\n",
    "from sklearn.manifold import TSNE"
   ]
  },
  {
   "cell_type": "markdown",
   "metadata": {},
   "source": [
    "# Table of Contents"
   ]
  },
  {
   "cell_type": "markdown",
   "metadata": {},
   "source": [
    "This is the table of contents"
   ]
  },
  {
   "cell_type": "markdown",
   "metadata": {},
   "source": [
    "# Load Data"
   ]
  },
  {
   "cell_type": "code",
   "execution_count": null,
   "metadata": {},
   "outputs": [],
   "source": [
    "df = pd.Dataframe(\"\")"
   ]
  },
  {
   "cell_type": "markdown",
   "metadata": {},
   "source": [
    "## Test Data"
   ]
  },
  {
   "cell_type": "code",
   "execution_count": 2,
   "metadata": {
    "ExecuteTime": {
     "end_time": "2019-03-11T21:19:50.620307Z",
     "start_time": "2019-03-11T21:19:50.548468Z"
    }
   },
   "outputs": [
    {
     "data": {
      "text/html": [
       "<div>\n",
       "<style scoped>\n",
       "    .dataframe tbody tr th:only-of-type {\n",
       "        vertical-align: middle;\n",
       "    }\n",
       "\n",
       "    .dataframe tbody tr th {\n",
       "        vertical-align: top;\n",
       "    }\n",
       "\n",
       "    .dataframe thead th {\n",
       "        text-align: right;\n",
       "    }\n",
       "</style>\n",
       "<table border=\"1\" class=\"dataframe\">\n",
       "  <thead>\n",
       "    <tr style=\"text-align: right;\">\n",
       "      <th></th>\n",
       "      <th>gene_ID</th>\n",
       "      <th>B6J_F01</th>\n",
       "      <th>B6J_F02</th>\n",
       "      <th>B6J_F03</th>\n",
       "      <th>B6J_F04</th>\n",
       "      <th>B6J_F05</th>\n",
       "      <th>B6J_F06</th>\n",
       "      <th>B6J_F07</th>\n",
       "      <th>B6J_F08</th>\n",
       "      <th>B6J_M01</th>\n",
       "      <th>...</th>\n",
       "      <th>CC027_F2815</th>\n",
       "      <th>CC027_M2797</th>\n",
       "      <th>CC027_M2798</th>\n",
       "      <th>CC027_M2799</th>\n",
       "      <th>CC027_M2801</th>\n",
       "      <th>CC027_M2802</th>\n",
       "      <th>CC027_M2803</th>\n",
       "      <th>CC027_M2804</th>\n",
       "      <th>CC027_M2805</th>\n",
       "      <th>Origin</th>\n",
       "    </tr>\n",
       "  </thead>\n",
       "  <tbody>\n",
       "    <tr>\n",
       "      <th>0</th>\n",
       "      <td>ENSMUSG00000000001</td>\n",
       "      <td>367</td>\n",
       "      <td>364</td>\n",
       "      <td>527</td>\n",
       "      <td>307</td>\n",
       "      <td>451</td>\n",
       "      <td>404</td>\n",
       "      <td>434</td>\n",
       "      <td>613</td>\n",
       "      <td>338</td>\n",
       "      <td>...</td>\n",
       "      <td>336</td>\n",
       "      <td>432</td>\n",
       "      <td>402</td>\n",
       "      <td>407</td>\n",
       "      <td>585</td>\n",
       "      <td>365</td>\n",
       "      <td>493</td>\n",
       "      <td>526</td>\n",
       "      <td>474</td>\n",
       "      <td>S</td>\n",
       "    </tr>\n",
       "    <tr>\n",
       "      <th>1</th>\n",
       "      <td>ENSMUSG00000000003</td>\n",
       "      <td>0</td>\n",
       "      <td>0</td>\n",
       "      <td>0</td>\n",
       "      <td>0</td>\n",
       "      <td>0</td>\n",
       "      <td>0</td>\n",
       "      <td>0</td>\n",
       "      <td>0</td>\n",
       "      <td>0</td>\n",
       "      <td>...</td>\n",
       "      <td>0</td>\n",
       "      <td>0</td>\n",
       "      <td>0</td>\n",
       "      <td>0</td>\n",
       "      <td>0</td>\n",
       "      <td>0</td>\n",
       "      <td>0</td>\n",
       "      <td>0</td>\n",
       "      <td>0</td>\n",
       "      <td>S</td>\n",
       "    </tr>\n",
       "    <tr>\n",
       "      <th>2</th>\n",
       "      <td>ENSMUSG00000000028</td>\n",
       "      <td>18</td>\n",
       "      <td>19</td>\n",
       "      <td>16</td>\n",
       "      <td>17</td>\n",
       "      <td>26</td>\n",
       "      <td>39</td>\n",
       "      <td>15</td>\n",
       "      <td>25</td>\n",
       "      <td>12</td>\n",
       "      <td>...</td>\n",
       "      <td>16</td>\n",
       "      <td>22</td>\n",
       "      <td>43</td>\n",
       "      <td>36</td>\n",
       "      <td>42</td>\n",
       "      <td>18</td>\n",
       "      <td>21</td>\n",
       "      <td>63</td>\n",
       "      <td>33</td>\n",
       "      <td>S</td>\n",
       "    </tr>\n",
       "    <tr>\n",
       "      <th>3</th>\n",
       "      <td>ENSMUSG00000000037</td>\n",
       "      <td>12</td>\n",
       "      <td>8</td>\n",
       "      <td>11</td>\n",
       "      <td>16</td>\n",
       "      <td>13</td>\n",
       "      <td>8</td>\n",
       "      <td>1</td>\n",
       "      <td>31</td>\n",
       "      <td>5</td>\n",
       "      <td>...</td>\n",
       "      <td>9</td>\n",
       "      <td>20</td>\n",
       "      <td>2</td>\n",
       "      <td>10</td>\n",
       "      <td>23</td>\n",
       "      <td>1</td>\n",
       "      <td>24</td>\n",
       "      <td>9</td>\n",
       "      <td>10</td>\n",
       "      <td>S</td>\n",
       "    </tr>\n",
       "    <tr>\n",
       "      <th>4</th>\n",
       "      <td>ENSMUSG00000000049</td>\n",
       "      <td>1</td>\n",
       "      <td>10</td>\n",
       "      <td>5</td>\n",
       "      <td>2</td>\n",
       "      <td>6</td>\n",
       "      <td>4</td>\n",
       "      <td>6</td>\n",
       "      <td>9</td>\n",
       "      <td>2</td>\n",
       "      <td>...</td>\n",
       "      <td>4</td>\n",
       "      <td>1</td>\n",
       "      <td>3</td>\n",
       "      <td>8</td>\n",
       "      <td>0</td>\n",
       "      <td>0</td>\n",
       "      <td>4</td>\n",
       "      <td>11</td>\n",
       "      <td>2</td>\n",
       "      <td>S</td>\n",
       "    </tr>\n",
       "  </tbody>\n",
       "</table>\n",
       "<p>5 rows × 34 columns</p>\n",
       "</div>"
      ],
      "text/plain": [
       "              gene_ID  B6J_F01  B6J_F02  B6J_F03  B6J_F04  B6J_F05  B6J_F06  \\\n",
       "0  ENSMUSG00000000001      367      364      527      307      451      404   \n",
       "1  ENSMUSG00000000003        0        0        0        0        0        0   \n",
       "2  ENSMUSG00000000028       18       19       16       17       26       39   \n",
       "3  ENSMUSG00000000037       12        8       11       16       13        8   \n",
       "4  ENSMUSG00000000049        1       10        5        2        6        4   \n",
       "\n",
       "   B6J_F07  B6J_F08  B6J_M01   ...    CC027_F2815  CC027_M2797  CC027_M2798  \\\n",
       "0      434      613      338   ...            336          432          402   \n",
       "1        0        0        0   ...              0            0            0   \n",
       "2       15       25       12   ...             16           22           43   \n",
       "3        1       31        5   ...              9           20            2   \n",
       "4        6        9        2   ...              4            1            3   \n",
       "\n",
       "   CC027_M2799  CC027_M2801  CC027_M2802  CC027_M2803  CC027_M2804  \\\n",
       "0          407          585          365          493          526   \n",
       "1            0            0            0            0            0   \n",
       "2           36           42           18           21           63   \n",
       "3           10           23            1           24            9   \n",
       "4            8            0            0            4           11   \n",
       "\n",
       "   CC027_M2805  Origin  \n",
       "0          474       S  \n",
       "1            0       S  \n",
       "2           33       S  \n",
       "3           10       S  \n",
       "4            2       S  \n",
       "\n",
       "[5 rows x 34 columns]"
      ]
     },
     "execution_count": 2,
     "metadata": {},
     "output_type": "execute_result"
    }
   ],
   "source": [
    "import string\n",
    "import random\n",
    "\n",
    "origin = [(random.choice(string.ascii_uppercase[17:19])) for i in range(100)]\n",
    "ID = [(random.choice(string.ascii_uppercase)*6) for i in range(100)]\n",
    "\n",
    "df_test = pd.read_csv('~/Downloads/testRNAseqData.csv', nrows= 100)\n",
    "# df_test['ReqSeq ID'] = ID\n",
    "df_test['Origin'] = origin\n",
    "df_test.head()"
   ]
  },
  {
   "cell_type": "markdown",
   "metadata": {},
   "source": [
    "# TSNE"
   ]
  },
  {
   "cell_type": "code",
   "execution_count": 61,
   "metadata": {
    "ExecuteTime": {
     "end_time": "2019-03-11T21:48:57.047645Z",
     "start_time": "2019-03-11T21:48:55.199497Z"
    }
   },
   "outputs": [
    {
     "data": {
      "text/plain": [
       "<seaborn.axisgrid.FacetGrid at 0x217de330cf8>"
      ]
     },
     "execution_count": 61,
     "metadata": {},
     "output_type": "execute_result"
    },
    {
     "data": {
      "image/png": "[encoded data removed]",
      "text/plain": [
       "<Figure size 390.635x216 with 1 Axes>"
      ]
     },
     "metadata": {
      "needs_background": "light"
     },
     "output_type": "display_data"
    }
   ],
   "source": [
    "df_data = df_test[df_test.columns.difference(['gene_ID','Origin'])]\n",
    "\n",
    "tsne = TSNE(n_components=2).fit_transform(df_data)\n",
    "\n",
    "df_test['tsne1'] = tsne[:,0]\n",
    "df_test['tsne2'] = tsne[:,1]\n",
    "\n",
    "fg = sns.FacetGrid(data=df_test, hue='Origin', aspect=1.61)\n",
    "from sklearn.decomposition import PCA\n",
    "fg.map(plt.scatter, 'tsne1', 'tsne2').add_legend()"
   ]
  },
  {
   "cell_type": "markdown",
   "metadata": {},
   "source": [
    "# PCA"
   ]
  },
  {
   "cell_type": "code",
   "execution_count": 58,
   "metadata": {
    "ExecuteTime": {
     "end_time": "2019-03-11T21:48:30.726275Z",
     "start_time": "2019-03-11T21:48:30.449473Z"
    }
   },
   "outputs": [
    {
     "data": {
      "text/plain": [
       "<seaborn.axisgrid.FacetGrid at 0x217df40a908>"
      ]
     },
     "execution_count": 58,
     "metadata": {},
     "output_type": "execute_result"
    },
    {
     "data": {
      "image/png": "[encoded data removed]",
      "text/plain": [
       "<Figure size 390.635x216 with 1 Axes>"
      ]
     },
     "metadata": {
      "needs_background": "light"
     },
     "output_type": "display_data"
    }
   ],
   "source": [
    "pca = PCA(n_components=3).fit_transform(df_data)\n",
    "\n",
    "df_test['pca1'] = pca[:,0]\n",
    "df_test['pca2'] = pca[:,1]\n",
    "\n",
    "fg2 = sns.FacetGrid(data=df_test, hue='Origin', aspect=1.61)\n",
    "fg2.map(plt.scatter, 'pca1', 'pca2').add_legend()"
   ]
  },
  {
   "cell_type": "code",
   "execution_count": null,
   "metadata": {},
   "outputs": [],
   "source": []
  }
 ],
 "metadata": {
  "hide_input": false,
  "kernelspec": {
   "display_name": "Python 3",
   "language": "python",
   "name": "python3"
  },
  "language_info": {
   "codemirror_mode": {
    "name": "ipython",
    "version": 3
   },
   "file_extension": ".py",
   "mimetype": "text/x-python",
   "name": "python",
   "nbconvert_exporter": "python",
   "pygments_lexer": "ipython3",
   "version": "3.6.6"
  },
  "latex_envs": {
   "LaTeX_envs_menu_present": true,
   "autocomplete": true,
   "bibliofile": "biblio.bib",
   "cite_by": "apalike",
   "current_citInitial": 1,
   "eqLabelWithNumbers": true,
   "eqNumInitial": 1,
   "hotkeys": {
    "equation": "Ctrl-E",
    "itemize": "Ctrl-I"
   },
   "labels_anchors": false,
   "latex_user_defs": false,
   "report_style_numbering": false,
   "user_envs_cfg": false
  },
  "toc": {
   "colors": {
    "hover_highlight": "#DAA520",
    "navigate_num": "#000000",
    "navigate_text": "#333333",
    "running_highlight": "#FF0000",
    "selected_highlight": "#FFD700",
    "sidebar_border": "#EEEEEE",
    "wrapper_background": "#FFFFFF"
   },
   "moveMenuLeft": true,
   "nav_menu": {
    "height": "30px",
    "width": "252px"
   },
   "navigate_menu": true,
   "number_sections": true,
   "sideBar": true,
   "threshold": 4,
   "toc_cell": false,
   "toc_section_display": "block",
   "toc_window_display": false,
   "widenNotebook": false
  },
  "varInspector": {
   "cols": {
    "lenName": 16,
    "lenType": 16,
    "lenVar": 40
   },
   "kernels_config": {
    "python": {
     "delete_cmd_postfix": "",
     "delete_cmd_prefix": "del ",
     "library": "var_list.py",
     "varRefreshCmd": "print(var_dic_list())"
    },
    "r": {
     "delete_cmd_postfix": ") ",
     "delete_cmd_prefix": "rm(",
     "library": "var_list.r",
     "varRefreshCmd": "cat(var_dic_list()) "
    }
   },
   "types_to_exclude": [
    "module",
    "function",
    "builtin_function_or_method",
    "instance",
    "_Feature"
   ],
   "window_display": false
  }
 },
 "nbformat": 4,
 "nbformat_minor": 2
}
